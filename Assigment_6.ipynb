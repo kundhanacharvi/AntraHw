{
  "nbformat": 4,
  "nbformat_minor": 0,
  "metadata": {
    "kernelspec": {
      "display_name": "Python 3",
      "language": "python",
      "name": "python3"
    },
    "language_info": {
      "codemirror_mode": {
        "name": "ipython",
        "version": 3
      },
      "file_extension": ".py",
      "mimetype": "text/x-python",
      "name": "python",
      "nbconvert_exporter": "python",
      "pygments_lexer": "ipython3",
      "version": "3.8.5"
    },
    "colab": {
      "name": "Assigment 6.ipynb",
      "provenance": [],
      "include_colab_link": true
    }
  },
  "cells": [
    {
      "cell_type": "markdown",
      "metadata": {
        "id": "view-in-github",
        "colab_type": "text"
      },
      "source": [
        "<a href=\"https://colab.research.google.com/github/kundhanacharvi/training/blob/main/Assigment_6.ipynb\" target=\"_parent\"><img src=\"https://colab.research.google.com/assets/colab-badge.svg\" alt=\"Open In Colab\"/></a>"
      ]
    },
    {
      "cell_type": "code",
      "metadata": {
        "id": "GCpkH4_aAF9Z",
        "outputId": "7d8a54b0-b578-476c-c952-9b2d2c7032fc"
      },
      "source": [
        "#1.fill null values of a data frame using median and mode\n",
        "\n",
        "import numpy as np\n",
        "import pandas as pd\n",
        "df = pd.DataFrame({\n",
        "'ord_no':[70001,np.nan,70002,70004,np.nan,70005,np.nan,70010,70003,70012,np.nan,70013],\n",
        "'purch_amt':[150.5,np.nan,65.26,110.5,948.5,np.nan,5760,1983.43,np.nan,250.45, 75.29,3045.6],\n",
        "'sale_amt':[10.5,20.65,np.nan,11.5,98.5,np.nan,57,19.43,np.nan,25.45, 75.29,35.6]})\n",
        "print(df)"
      ],
      "execution_count": null,
      "outputs": [
        {
          "output_type": "stream",
          "text": [
            "     ord_no  purch_amt  sale_amt\n",
            "0   70001.0     150.50     10.50\n",
            "1       NaN        NaN     20.65\n",
            "2   70002.0      65.26       NaN\n",
            "3   70004.0     110.50     11.50\n",
            "4       NaN     948.50     98.50\n",
            "5   70005.0        NaN       NaN\n",
            "6       NaN    5760.00     57.00\n",
            "7   70010.0    1983.43     19.43\n",
            "8   70003.0        NaN       NaN\n",
            "9   70012.0     250.45     25.45\n",
            "10      NaN      75.29     75.29\n",
            "11  70013.0    3045.60     35.60\n"
          ],
          "name": "stdout"
        }
      ]
    },
    {
      "cell_type": "code",
      "metadata": {
        "id": "dWbSY1uPAF9g",
        "outputId": "4aa9a72a-a146-42f9-88eb-4c605960adc9"
      },
      "source": [
        "df['sale_amt'].fillna(df['sale_amt'].mode(), inplace=True)\n",
        "print(df)\n"
      ],
      "execution_count": null,
      "outputs": [
        {
          "output_type": "stream",
          "text": [
            "     ord_no  purch_amt  sale_amt\n",
            "0   70001.0     150.50     10.50\n",
            "1       NaN        NaN     20.65\n",
            "2   70002.0      65.26     19.43\n",
            "3   70004.0     110.50     11.50\n",
            "4       NaN     948.50     98.50\n",
            "5   70005.0        NaN     35.60\n",
            "6       NaN    5760.00     57.00\n",
            "7   70010.0    1983.43     19.43\n",
            "8   70003.0        NaN     98.50\n",
            "9   70012.0     250.45     25.45\n",
            "10      NaN      75.29     75.29\n",
            "11  70013.0    3045.60     35.60\n"
          ],
          "name": "stdout"
        }
      ]
    },
    {
      "cell_type": "code",
      "metadata": {
        "id": "RS5lUfwHAF9h",
        "outputId": "55fa8c8b-4ee3-45b7-d2a1-aeea9a919095"
      },
      "source": [
        "df['purch_amt'].fillna(df['purch_amt'].median(), inplace=True)\n",
        "print(df)"
      ],
      "execution_count": null,
      "outputs": [
        {
          "output_type": "stream",
          "text": [
            "     ord_no  purch_amt  sale_amt\n",
            "0   70001.0     150.50     10.50\n",
            "1       NaN     250.45     20.65\n",
            "2   70002.0      65.26     19.43\n",
            "3   70004.0     110.50     11.50\n",
            "4       NaN     948.50     98.50\n",
            "5   70005.0     250.45     35.60\n",
            "6       NaN    5760.00     57.00\n",
            "7   70010.0    1983.43     19.43\n",
            "8   70003.0     250.45     98.50\n",
            "9   70012.0     250.45     25.45\n",
            "10      NaN      75.29     75.29\n",
            "11  70013.0    3045.60     35.60\n"
          ],
          "name": "stdout"
        }
      ]
    },
    {
      "cell_type": "code",
      "metadata": {
        "scrolled": true,
        "id": "r73FiAVxAF9h",
        "outputId": "52564b55-7705-4faf-de38-58a64b148311"
      },
      "source": [
        "#Create a dataframe and add a column, add names in it using apply function to return names whose length is greater than 5\n",
        "import pandas as pd\n",
        "df = pd.DataFrame({'Date' : ['11/8/2011', '11/9/2011', '11/10/2011',\n",
        "                                        '11/11/2011', '11/12/2011'],\n",
        "                'Event' : ['Music', 'Poetry', 'Music', 'Comedy', 'Poetry']})\n",
        "  \n",
        "print(df)\n"
      ],
      "execution_count": null,
      "outputs": [
        {
          "output_type": "stream",
          "text": [
            "         Date   Event\n",
            "0   11/8/2011   Music\n",
            "1   11/9/2011  Poetry\n",
            "2  11/10/2011   Music\n",
            "3  11/11/2011  Comedy\n",
            "4  11/12/2011  Poetry\n"
          ],
          "name": "stdout"
        }
      ]
    },
    {
      "cell_type": "code",
      "metadata": {
        "id": "EN8HWDFbAF9i"
      },
      "source": [
        ""
      ],
      "execution_count": null,
      "outputs": []
    },
    {
      "cell_type": "code",
      "metadata": {
        "id": "tsF5rYIjAF9i",
        "outputId": "a74a069f-9fa9-4d84-a715-51e156ef20f0"
      },
      "source": [
        "#4.create a numpy array and a dataframe and concatenate them\n",
        "np.random.seed(0)\n",
        "df = pd.DataFrame(np.random.choice(10, (3, 3)), columns=list('ABC'))\n",
        "print(df)\n"
      ],
      "execution_count": null,
      "outputs": [
        {
          "output_type": "stream",
          "text": [
            "   A  B  C\n",
            "0  5  0  3\n",
            "1  3  7  9\n",
            "2  3  5  2\n"
          ],
          "name": "stdout"
        }
      ]
    },
    {
      "cell_type": "code",
      "metadata": {
        "id": "M7MeK7F1AF9i"
      },
      "source": [
        "#2.what is the difference between merging and joining in dataframe\n",
        "\n",
        "Both join and merge can be used to combines two dataframes but the join method combines two dataframes on the basis of their indexes whereas the merge method is more versatile and allows us to specify columns beside the index to join on for both dataframes.\n",
        "Merge:=\n",
        "    The pd. merge() function recognizes that each DataFrame has an \"employee\" column, and automatically joins using this column as a key. The result of the merge is a new DataFrame that combines the information from the two inputs.\n",
        "Join:=\n",
        "    Join columns with other DataFrame either on index or on a key column. Efficiently join multiple DataFrame objects by index at once by passing a list.\n"
      ],
      "execution_count": null,
      "outputs": []
    }
  ]
}