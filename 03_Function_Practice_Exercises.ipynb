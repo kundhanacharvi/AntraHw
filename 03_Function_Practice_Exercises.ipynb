{
  "nbformat": 4,
  "nbformat_minor": 0,
  "metadata": {
    "kernelspec": {
      "display_name": "Python 3",
      "language": "python",
      "name": "python3"
    },
    "language_info": {
      "codemirror_mode": {
        "name": "ipython",
        "version": 3
      },
      "file_extension": ".py",
      "mimetype": "text/x-python",
      "name": "python",
      "nbconvert_exporter": "python",
      "pygments_lexer": "ipython3",
      "version": "3.5.2"
    },
    "varInspector": {
      "cols": {
        "lenName": 16,
        "lenType": 16,
        "lenVar": 40
      },
      "kernels_config": {
        "python": {
          "delete_cmd_postfix": "",
          "delete_cmd_prefix": "del ",
          "library": "var_list.py",
          "varRefreshCmd": "print(var_dic_list())"
        },
        "r": {
          "delete_cmd_postfix": ") ",
          "delete_cmd_prefix": "rm(",
          "library": "var_list.r",
          "varRefreshCmd": "cat(var_dic_list()) "
        }
      },
      "types_to_exclude": [
        "module",
        "function",
        "builtin_function_or_method",
        "instance",
        "_Feature"
      ],
      "window_display": false
    },
    "colab": {
      "name": "03-Function Practice Exercises.ipynb",
      "provenance": [],
      "include_colab_link": true
    }
  },
  "cells": [
    {
      "cell_type": "markdown",
      "metadata": {
        "id": "view-in-github",
        "colab_type": "text"
      },
      "source": [
        "<a href=\"https://colab.research.google.com/github/kundhanacharvi/training/blob/main/03_Function_Practice_Exercises.ipynb\" target=\"_parent\"><img src=\"https://colab.research.google.com/assets/colab-badge.svg\" alt=\"Open In Colab\"/></a>"
      ]
    },
    {
      "cell_type": "markdown",
      "metadata": {
        "id": "eS3v3LNOra9p"
      },
      "source": [
        "___\n",
        "\n",
        "<a href='https://www.udemy.com/user/joseportilla/'><img src='../Pierian_Data_Logo.png'/></a>\n",
        "___\n",
        "<center><em>Content Copyright by Pierian Data</em></center>"
      ]
    },
    {
      "cell_type": "markdown",
      "metadata": {
        "id": "PxzamN5Bra9r"
      },
      "source": [
        "# Function Practice Exercises\n",
        "\n",
        "Problems are arranged in increasing difficulty:\n",
        "* Warmup - these can be solved using basic comparisons and methods\n",
        "* Level 1 - these may involve if/then conditional statements and simple methods\n",
        "* Level 2 - these may require iterating over sequences, usually with some kind of loop\n",
        "* Challenging - these will take some creativity to solve"
      ]
    },
    {
      "cell_type": "markdown",
      "metadata": {
        "id": "u9dwLLNRra9r"
      },
      "source": [
        "## WARMUP SECTION:"
      ]
    },
    {
      "cell_type": "markdown",
      "metadata": {
        "id": "qps94mzhra9s"
      },
      "source": [
        "#### LESSER OF TWO EVENS: Write a function that returns the lesser of two given numbers *if* both numbers are even, but returns the greater if one or both numbers are odd\n",
        "    lesser_of_two_evens(2,4) --> 2\n",
        "    lesser_of_two_evens(2,5) --> 5"
      ]
    },
    {
      "cell_type": "code",
      "metadata": {
        "collapsed": true,
        "id": "PLL2vafvra9s"
      },
      "source": [
        "def lesser_of_two_evens(a,b):\n",
        "    if (a % 2 and b % 2) != 0:\n",
        "        if b > a:\n",
        "            print(b)\n",
        "        if a > b:\n",
        "            print(a)    \n",
        "    elif (a % 2 and b % 2) == 0:\n",
        "        if a < b:\n",
        "            print(a)\n",
        "        else:\n",
        "            print(b)    \n",
        "    pass"
      ],
      "execution_count": 101,
      "outputs": []
    },
    {
      "cell_type": "code",
      "metadata": {
        "collapsed": true,
        "colab": {
          "base_uri": "https://localhost:8080/"
        },
        "id": "Nb-mKwG0ra9s",
        "outputId": "27b6a30d-39c6-497d-b545-5d1ee17994a4"
      },
      "source": [
        "# Check\n",
        "lesser_of_two_evens(2,4)"
      ],
      "execution_count": 102,
      "outputs": [
        {
          "output_type": "stream",
          "text": [
            "2\n"
          ],
          "name": "stdout"
        }
      ]
    },
    {
      "cell_type": "code",
      "metadata": {
        "collapsed": true,
        "colab": {
          "base_uri": "https://localhost:8080/"
        },
        "id": "Z05tS0uIra9s",
        "outputId": "2fe7cdb7-af47-4e85-c20d-117c6d4c4997"
      },
      "source": [
        "# Check\n",
        "lesser_of_two_evens(2,5)"
      ],
      "execution_count": 103,
      "outputs": [
        {
          "output_type": "stream",
          "text": [
            "2\n"
          ],
          "name": "stdout"
        }
      ]
    },
    {
      "cell_type": "markdown",
      "metadata": {
        "id": "ahoctx1kra9t"
      },
      "source": [
        "#### ANIMAL CRACKERS: Write a function takes a two-word string and returns True if both words begin with same letter\n",
        "    animal_crackers('Levelheaded Llama') --> True\n",
        "    animal_crackers('Crazy Kangaroo') --> False"
      ]
    },
    {
      "cell_type": "code",
      "metadata": {
        "collapsed": true,
        "id": "KcWDq2S9ra9t"
      },
      "source": [
        "def animal_crackers(text):\n",
        "    strings=text.split()\n",
        "    if(strings[0][0]==strings[1][0]):\n",
        "        return True;\n",
        "    else:\n",
        "        return False;"
      ],
      "execution_count": 19,
      "outputs": []
    },
    {
      "cell_type": "code",
      "metadata": {
        "collapsed": true,
        "colab": {
          "base_uri": "https://localhost:8080/"
        },
        "id": "jG-KP5Mzra9t",
        "outputId": "8e89975e-b223-4dc9-e0a7-975fdbcf8adc"
      },
      "source": [
        "# Check\n",
        "animal_crackers('Levelheaded Llama')"
      ],
      "execution_count": 20,
      "outputs": [
        {
          "output_type": "execute_result",
          "data": {
            "text/plain": [
              "True"
            ]
          },
          "metadata": {
            "tags": []
          },
          "execution_count": 20
        }
      ]
    },
    {
      "cell_type": "code",
      "metadata": {
        "collapsed": true,
        "colab": {
          "base_uri": "https://localhost:8080/"
        },
        "id": "-1jqFblWra9t",
        "outputId": "5992b5ba-eb54-4ae9-83a5-5583bcde9940"
      },
      "source": [
        "# Check\n",
        "animal_crackers('Crazy Kangaroo')"
      ],
      "execution_count": 21,
      "outputs": [
        {
          "output_type": "execute_result",
          "data": {
            "text/plain": [
              "False"
            ]
          },
          "metadata": {
            "tags": []
          },
          "execution_count": 21
        }
      ]
    },
    {
      "cell_type": "markdown",
      "metadata": {
        "id": "s4Sjalgbra9u"
      },
      "source": [
        "#### MAKES TWENTY: Given two integers, return True if the sum of the integers is 20 *or* if one of the integers is 20. If not, return False\n",
        "\n",
        "    makes_twenty(20,10) --> True\n",
        "    makes_twenty(12,8) --> True\n",
        "    makes_twenty(2,3) --> False"
      ]
    },
    {
      "cell_type": "code",
      "metadata": {
        "collapsed": true,
        "id": "FIssMdBFra9u"
      },
      "source": [
        "def makes_twenty(n1,n2):\n",
        "    if(n1==20 or n2==20 or (n1+n2)==20):\n",
        "        return True\n",
        "    else:\n",
        "        return False"
      ],
      "execution_count": 22,
      "outputs": []
    },
    {
      "cell_type": "code",
      "metadata": {
        "collapsed": true,
        "colab": {
          "base_uri": "https://localhost:8080/"
        },
        "id": "IZXJQLwSra9u",
        "outputId": "c6905368-4887-47cb-e37d-464648538c39"
      },
      "source": [
        "# Check\n",
        "makes_twenty(20,10)"
      ],
      "execution_count": 23,
      "outputs": [
        {
          "output_type": "execute_result",
          "data": {
            "text/plain": [
              "True"
            ]
          },
          "metadata": {
            "tags": []
          },
          "execution_count": 23
        }
      ]
    },
    {
      "cell_type": "code",
      "metadata": {
        "collapsed": true,
        "colab": {
          "base_uri": "https://localhost:8080/"
        },
        "id": "FVVWBzgara9u",
        "outputId": "20ab71d3-d2e2-4006-d3b5-53b9bd2c7ff7"
      },
      "source": [
        "# Check\n",
        "makes_twenty(2,3)"
      ],
      "execution_count": 24,
      "outputs": [
        {
          "output_type": "execute_result",
          "data": {
            "text/plain": [
              "False"
            ]
          },
          "metadata": {
            "tags": []
          },
          "execution_count": 24
        }
      ]
    },
    {
      "cell_type": "markdown",
      "metadata": {
        "id": "aAxCvjm9ra9u"
      },
      "source": [
        "# LEVEL 1 PROBLEMS"
      ]
    },
    {
      "cell_type": "markdown",
      "metadata": {
        "id": "ppCWnUPNra9v"
      },
      "source": [
        "#### OLD MACDONALD: Write a function that capitalizes the first and fourth letters of a name\n",
        "     \n",
        "    old_macdonald('macdonald') --> MacDonald\n",
        "    \n",
        "Note: `'macdonald'.capitalize()` returns `'Macdonald'`"
      ]
    },
    {
      "cell_type": "code",
      "metadata": {
        "collapsed": true,
        "id": "Sx0_v6onra9v"
      },
      "source": [
        "def old_macdonald(name):\n",
        "    strng=''\n",
        "    for x, c in enumerate(name):\n",
        "      if(x==0):\n",
        "        strng += c.upper()\n",
        "      elif (x==3):\n",
        "        strng += c.upper()\n",
        "      elif (x!=0 or x!=3):\n",
        "        strng += c\n",
        "    return(strng)"
      ],
      "execution_count": 26,
      "outputs": []
    },
    {
      "cell_type": "code",
      "metadata": {
        "collapsed": true,
        "colab": {
          "base_uri": "https://localhost:8080/",
          "height": 35
        },
        "id": "6fBGPZ6yra9v",
        "outputId": "90a2a93c-0e77-4f70-acca-e1d72b31feb7"
      },
      "source": [
        "# Check\n",
        "old_macdonald('macdonald')"
      ],
      "execution_count": 27,
      "outputs": [
        {
          "output_type": "execute_result",
          "data": {
            "application/vnd.google.colaboratory.intrinsic+json": {
              "type": "string"
            },
            "text/plain": [
              "'MacDonald'"
            ]
          },
          "metadata": {
            "tags": []
          },
          "execution_count": 27
        }
      ]
    },
    {
      "cell_type": "markdown",
      "metadata": {
        "id": "94GJFC7Mra9v"
      },
      "source": [
        "#### MASTER YODA: Given a sentence, return a sentence with the words reversed\n",
        "\n",
        "    master_yoda('I am home') --> 'home am I'\n",
        "    master_yoda('We are ready') --> 'ready are We'\n",
        "    \n",
        "Note: The .join() method may be useful here. The .join() method allows you to join together strings in a list with some connector string. For example, some uses of the .join() method:\n",
        "\n",
        "    >>> \"--\".join(['a','b','c'])\n",
        "    >>> 'a--b--c'\n",
        "\n",
        "This means if you had a list of words you wanted to turn back into a sentence, you could just join them with a single space string:\n",
        "\n",
        "    >>> \" \".join(['Hello','world'])\n",
        "    >>> \"Hello world\""
      ]
    },
    {
      "cell_type": "code",
      "metadata": {
        "collapsed": true,
        "id": "8rgA46L_ra9v"
      },
      "source": [
        "def master_yoda(text):\n",
        "    return ' '.join(text.split()[::-1])"
      ],
      "execution_count": 90,
      "outputs": []
    },
    {
      "cell_type": "code",
      "metadata": {
        "collapsed": true,
        "colab": {
          "base_uri": "https://localhost:8080/",
          "height": 35
        },
        "id": "Di_UXo27ra9w",
        "outputId": "f287545b-a0ef-4ead-ad3a-23b2ec424a59"
      },
      "source": [
        "# Check\n",
        "master_yoda('I am home')"
      ],
      "execution_count": 91,
      "outputs": [
        {
          "output_type": "execute_result",
          "data": {
            "application/vnd.google.colaboratory.intrinsic+json": {
              "type": "string"
            },
            "text/plain": [
              "'home am I'"
            ]
          },
          "metadata": {
            "tags": []
          },
          "execution_count": 91
        }
      ]
    },
    {
      "cell_type": "code",
      "metadata": {
        "collapsed": true,
        "colab": {
          "base_uri": "https://localhost:8080/",
          "height": 35
        },
        "id": "n299m5QBra9w",
        "outputId": "69982486-e587-42ba-8bec-4edc3717eb17"
      },
      "source": [
        "# Check\n",
        "master_yoda('We are ready')"
      ],
      "execution_count": 92,
      "outputs": [
        {
          "output_type": "execute_result",
          "data": {
            "application/vnd.google.colaboratory.intrinsic+json": {
              "type": "string"
            },
            "text/plain": [
              "'ready are We'"
            ]
          },
          "metadata": {
            "tags": []
          },
          "execution_count": 92
        }
      ]
    },
    {
      "cell_type": "markdown",
      "metadata": {
        "id": "lwDern86ra9w"
      },
      "source": [
        "#### ALMOST THERE: Given an integer n, return True if n is within 10 of either 100 or 200\n",
        "\n",
        "    almost_there(90) --> True\n",
        "    almost_there(104) --> True\n",
        "    almost_there(150) --> False\n",
        "    almost_there(209) --> True\n",
        "    \n",
        "NOTE: `abs(num)` returns the absolute value of a number"
      ]
    },
    {
      "cell_type": "code",
      "metadata": {
        "collapsed": true,
        "id": "hvo-mFAUra9w"
      },
      "source": [
        "def almost_there(n):\n",
        "  if(n in range(90,110)):\n",
        "    return True\n",
        "  elif(n in range(190,210)):\n",
        "    return True\n",
        "  else:\n",
        "    return False"
      ],
      "execution_count": 43,
      "outputs": []
    },
    {
      "cell_type": "code",
      "metadata": {
        "id": "X1LOovAgyXtk"
      },
      "source": [
        ""
      ],
      "execution_count": null,
      "outputs": []
    },
    {
      "cell_type": "code",
      "metadata": {
        "collapsed": true,
        "colab": {
          "base_uri": "https://localhost:8080/"
        },
        "id": "bxm-oSpcra9w",
        "outputId": "d99b78b0-a2c7-46f9-cbb8-677cbb641575"
      },
      "source": [
        "# Check\n",
        "almost_there(104)"
      ],
      "execution_count": 44,
      "outputs": [
        {
          "output_type": "execute_result",
          "data": {
            "text/plain": [
              "True"
            ]
          },
          "metadata": {
            "tags": []
          },
          "execution_count": 44
        }
      ]
    },
    {
      "cell_type": "code",
      "metadata": {
        "collapsed": true,
        "colab": {
          "base_uri": "https://localhost:8080/"
        },
        "id": "gJ-7TnAEra9w",
        "outputId": "82530902-a457-4139-c056-d1e5d25289e8"
      },
      "source": [
        "# Check\n",
        "almost_there(150)"
      ],
      "execution_count": 45,
      "outputs": [
        {
          "output_type": "execute_result",
          "data": {
            "text/plain": [
              "False"
            ]
          },
          "metadata": {
            "tags": []
          },
          "execution_count": 45
        }
      ]
    },
    {
      "cell_type": "code",
      "metadata": {
        "collapsed": true,
        "colab": {
          "base_uri": "https://localhost:8080/"
        },
        "id": "ahhf57PKra9x",
        "outputId": "ae636057-ab88-4a00-91f3-34bc71f993a0"
      },
      "source": [
        "# Check\n",
        "almost_there(209)"
      ],
      "execution_count": 46,
      "outputs": [
        {
          "output_type": "execute_result",
          "data": {
            "text/plain": [
              "True"
            ]
          },
          "metadata": {
            "tags": []
          },
          "execution_count": 46
        }
      ]
    },
    {
      "cell_type": "markdown",
      "metadata": {
        "id": "QQNg9LnHra9x"
      },
      "source": [
        "# LEVEL 2 PROBLEMS"
      ]
    },
    {
      "cell_type": "markdown",
      "metadata": {
        "id": "cFoKdl-vra9x"
      },
      "source": [
        "#### FIND 33: \n",
        "\n",
        "Given a list of ints, return True if the array contains a 3 next to a 3 somewhere.\n",
        "\n",
        "    has_33([1, 3, 3]) → True\n",
        "    has_33([1, 3, 1, 3]) → False\n",
        "    has_33([3, 1, 3]) → False"
      ]
    },
    {
      "cell_type": "code",
      "metadata": {
        "collapsed": true,
        "id": "7_4lOL-tra93"
      },
      "source": [
        "def has_33(nums):\n",
        "    for i in range (len(nums)-1):\n",
        "         if (nums[i] == 3 and nums[i+1]==3 ):\n",
        "             signal=True\n",
        "         else:\n",
        "             signal=False\n",
        "    return signal"
      ],
      "execution_count": 50,
      "outputs": []
    },
    {
      "cell_type": "code",
      "metadata": {
        "collapsed": true,
        "colab": {
          "base_uri": "https://localhost:8080/"
        },
        "id": "fLHUaVVdra94",
        "outputId": "30fb3ec2-21ac-444c-f2ad-fb59b9152aab"
      },
      "source": [
        "# Check\n",
        "has_33([1, 3, 3])"
      ],
      "execution_count": 51,
      "outputs": [
        {
          "output_type": "execute_result",
          "data": {
            "text/plain": [
              "True"
            ]
          },
          "metadata": {
            "tags": []
          },
          "execution_count": 51
        }
      ]
    },
    {
      "cell_type": "code",
      "metadata": {
        "collapsed": true,
        "colab": {
          "base_uri": "https://localhost:8080/"
        },
        "id": "osh6ojyCra94",
        "outputId": "448f750a-6fed-4a68-df81-2f946d084062"
      },
      "source": [
        "# Check\n",
        "has_33([1, 3, 1, 3])"
      ],
      "execution_count": 52,
      "outputs": [
        {
          "output_type": "execute_result",
          "data": {
            "text/plain": [
              "False"
            ]
          },
          "metadata": {
            "tags": []
          },
          "execution_count": 52
        }
      ]
    },
    {
      "cell_type": "code",
      "metadata": {
        "collapsed": true,
        "colab": {
          "base_uri": "https://localhost:8080/"
        },
        "id": "NmOFoCcIra94",
        "outputId": "4973f2fa-382a-4930-ce45-5188469472cb"
      },
      "source": [
        "# Check\n",
        "has_33([3, 1, 3])"
      ],
      "execution_count": 53,
      "outputs": [
        {
          "output_type": "execute_result",
          "data": {
            "text/plain": [
              "False"
            ]
          },
          "metadata": {
            "tags": []
          },
          "execution_count": 53
        }
      ]
    },
    {
      "cell_type": "markdown",
      "metadata": {
        "id": "SuzHww9Tra94"
      },
      "source": [
        "#### PAPER DOLL: Given a string, return a string where for every character in the original there are three characters\n",
        "    paper_doll('Hello') --> 'HHHeeellllllooo'\n",
        "    paper_doll('Mississippi') --> 'MMMiiissssssiiippppppiii'"
      ]
    },
    {
      "cell_type": "code",
      "metadata": {
        "collapsed": true,
        "id": "V4OCNbvDra94"
      },
      "source": [
        "def paper_doll(text):\n",
        "   newWord = ''\n",
        "   for character in text:\n",
        "     newWord = newWord+(character*3)\n",
        "   print(newWord)"
      ],
      "execution_count": 66,
      "outputs": []
    },
    {
      "cell_type": "code",
      "metadata": {
        "collapsed": true,
        "colab": {
          "base_uri": "https://localhost:8080/"
        },
        "id": "CoSUg0ZGra94",
        "outputId": "7187e425-6ad6-41d6-b2a9-5bf75eece960"
      },
      "source": [
        "# Check\n",
        "paper_doll('Hello')"
      ],
      "execution_count": 67,
      "outputs": [
        {
          "output_type": "stream",
          "text": [
            "HHHeeellllllooo\n"
          ],
          "name": "stdout"
        }
      ]
    },
    {
      "cell_type": "code",
      "metadata": {
        "collapsed": true,
        "colab": {
          "base_uri": "https://localhost:8080/"
        },
        "id": "bBPs4yrkra94",
        "outputId": "76f35a07-377f-4667-adcf-2f15e8fb7dea"
      },
      "source": [
        "# Check\n",
        "paper_doll('Mississippi')"
      ],
      "execution_count": 68,
      "outputs": [
        {
          "output_type": "stream",
          "text": [
            "MMMiiissssssiiissssssiiippppppiii\n"
          ],
          "name": "stdout"
        }
      ]
    },
    {
      "cell_type": "markdown",
      "metadata": {
        "id": "gXUEQhJrra95"
      },
      "source": [
        "#### BLACKJACK: Given three integers between 1 and 11, if their sum is less than or equal to 21, return their sum. If their sum exceeds 21 *and* there's an eleven, reduce the total sum by 10. Finally, if the sum (even after adjustment) exceeds 21, return 'BUST'\n",
        "    blackjack(5,6,7) --> 18\n",
        "    blackjack(9,9,9) --> 'BUST'\n",
        "    blackjack(9,9,11) --> 19"
      ]
    },
    {
      "cell_type": "code",
      "metadata": {
        "collapsed": true,
        "id": "lbjPlj7Mra95"
      },
      "source": [
        "def blackjack(a,b,c):\n",
        "     if(a+b+c<=21):\n",
        "      print(a+b+c) \n",
        "      return (a+b+c) \n",
        "     elif(a==11 or b==11 or c==11 and a+b+c-10 <= 21):\n",
        "      print(a+b+c-10)\n",
        "      return (a+b+c-10)\n",
        "     else:  \n",
        "      print('BUST')\n",
        "      return ('BUST')"
      ],
      "execution_count": 69,
      "outputs": []
    },
    {
      "cell_type": "code",
      "metadata": {
        "collapsed": true,
        "colab": {
          "base_uri": "https://localhost:8080/"
        },
        "id": "1aQpXBVdra95",
        "outputId": "02355338-aa00-4839-d672-f167dbe4968a"
      },
      "source": [
        "# Check\n",
        "blackjack(5,6,7)"
      ],
      "execution_count": 70,
      "outputs": [
        {
          "output_type": "stream",
          "text": [
            "18\n"
          ],
          "name": "stdout"
        },
        {
          "output_type": "execute_result",
          "data": {
            "text/plain": [
              "18"
            ]
          },
          "metadata": {
            "tags": []
          },
          "execution_count": 70
        }
      ]
    },
    {
      "cell_type": "code",
      "metadata": {
        "collapsed": true,
        "colab": {
          "base_uri": "https://localhost:8080/",
          "height": 52
        },
        "id": "an8007CCra95",
        "outputId": "c84fdae9-411b-414a-bd23-6e098854d83b"
      },
      "source": [
        "# Check\n",
        "blackjack(9,9,9)"
      ],
      "execution_count": 71,
      "outputs": [
        {
          "output_type": "stream",
          "text": [
            "BUST\n"
          ],
          "name": "stdout"
        },
        {
          "output_type": "execute_result",
          "data": {
            "application/vnd.google.colaboratory.intrinsic+json": {
              "type": "string"
            },
            "text/plain": [
              "'BUST'"
            ]
          },
          "metadata": {
            "tags": []
          },
          "execution_count": 71
        }
      ]
    },
    {
      "cell_type": "code",
      "metadata": {
        "collapsed": true,
        "colab": {
          "base_uri": "https://localhost:8080/"
        },
        "id": "j4TJWNa6ra95",
        "outputId": "a7d6196e-65bd-4013-c19c-554250eab3b0"
      },
      "source": [
        "# Check\n",
        "blackjack(9,9,11)"
      ],
      "execution_count": 72,
      "outputs": [
        {
          "output_type": "stream",
          "text": [
            "19\n"
          ],
          "name": "stdout"
        },
        {
          "output_type": "execute_result",
          "data": {
            "text/plain": [
              "19"
            ]
          },
          "metadata": {
            "tags": []
          },
          "execution_count": 72
        }
      ]
    },
    {
      "cell_type": "markdown",
      "metadata": {
        "id": "1xkyjMXFra95"
      },
      "source": [
        "#### SUMMER OF '69: Return the sum of the numbers in the array, except ignore sections of numbers starting with a 6 and extending to the next 9 (every 6 will be followed by at least one 9). Return 0 for no numbers.\n",
        " \n",
        "    summer_69([1, 3, 5]) --> 9\n",
        "    summer_69([4, 5, 6, 7, 8, 9]) --> 9\n",
        "    summer_69([2, 1, 6, 9, 11]) --> 14"
      ]
    },
    {
      "cell_type": "code",
      "metadata": {
        "collapsed": true,
        "id": "SWmcOS-rra95"
      },
      "source": [
        "def summer_69(arr):\n",
        "  canSum = True\n",
        "  sum = 0\n",
        "  auxSum = 0\n",
        "  for n in arr:\n",
        "    if(canSum):\n",
        "      if(n != 6):\n",
        "        sum = sum + n\n",
        "      else:\n",
        "        canSum = False\n",
        "        auxSum = auxSum + n\n",
        "    else:\n",
        "      if(n != 9):\n",
        "        auxSum = auxSum + n\n",
        "      else:\n",
        "        canSum = True\n",
        "  if(canSum == False):  \n",
        "    sum = sum+auxSum\n",
        "      \n",
        "  return sum"
      ],
      "execution_count": 80,
      "outputs": []
    },
    {
      "cell_type": "code",
      "metadata": {
        "collapsed": true,
        "colab": {
          "base_uri": "https://localhost:8080/"
        },
        "id": "ps6wQtC3ra96",
        "outputId": "df19b777-5bc8-4e91-8fa4-1ab616e20536"
      },
      "source": [
        "# Check\n",
        "summer_69([1, 3, 5])"
      ],
      "execution_count": 81,
      "outputs": [
        {
          "output_type": "execute_result",
          "data": {
            "text/plain": [
              "9"
            ]
          },
          "metadata": {
            "tags": []
          },
          "execution_count": 81
        }
      ]
    },
    {
      "cell_type": "code",
      "metadata": {
        "collapsed": true,
        "colab": {
          "base_uri": "https://localhost:8080/"
        },
        "id": "h5MkxWa3ra96",
        "outputId": "4dcce657-c8e5-48d1-91b1-6b2f87764fda"
      },
      "source": [
        "# Check\n",
        "summer_69([4, 5, 6, 7, 8, 9])"
      ],
      "execution_count": 82,
      "outputs": [
        {
          "output_type": "execute_result",
          "data": {
            "text/plain": [
              "9"
            ]
          },
          "metadata": {
            "tags": []
          },
          "execution_count": 82
        }
      ]
    },
    {
      "cell_type": "code",
      "metadata": {
        "collapsed": true,
        "colab": {
          "base_uri": "https://localhost:8080/"
        },
        "id": "6RGf8QiMra96",
        "outputId": "4462338d-603a-46a7-b1b5-c324b8eacd38"
      },
      "source": [
        "# Check\n",
        "summer_69([2, 1, 6, 9, 11])"
      ],
      "execution_count": 83,
      "outputs": [
        {
          "output_type": "execute_result",
          "data": {
            "text/plain": [
              "14"
            ]
          },
          "metadata": {
            "tags": []
          },
          "execution_count": 83
        }
      ]
    },
    {
      "cell_type": "markdown",
      "metadata": {
        "id": "f3Jvspgjra96"
      },
      "source": [
        "# CHALLENGING PROBLEMS"
      ]
    },
    {
      "cell_type": "markdown",
      "metadata": {
        "id": "AouQpEwMra96"
      },
      "source": [
        "#### SPY GAME: Write a function that takes in a list of integers and returns True if it contains 007 in order\n",
        "\n",
        "     spy_game([1,2,4,0,0,7,5]) --> True\n",
        "     spy_game([1,0,2,4,0,5,7]) --> True\n",
        "     spy_game([1,7,2,0,4,5,0]) --> False\n"
      ]
    },
    {
      "cell_type": "code",
      "metadata": {
        "collapsed": true,
        "id": "QhILN_P1ra96"
      },
      "source": [
        "def spy_game(nums):\n",
        "    flag = 0\n",
        "    #flag2 = 1\n",
        "    for i in nums:\n",
        "        if i == 0:\n",
        "            flag= flag+1\n",
        "            continue\n",
        "        if flag == 2:\n",
        "            if i == 7:\n",
        "                return True\n",
        "        else:\n",
        "            continue\n",
        "    return False"
      ],
      "execution_count": 93,
      "outputs": []
    },
    {
      "cell_type": "code",
      "metadata": {
        "collapsed": true,
        "colab": {
          "base_uri": "https://localhost:8080/"
        },
        "id": "Ws8SsW0Tra96",
        "outputId": "fce26043-60d9-42c2-ca90-c3378e1ce131"
      },
      "source": [
        "# Check\n",
        "spy_game([1,2,4,0,0,7,5])"
      ],
      "execution_count": 94,
      "outputs": [
        {
          "output_type": "execute_result",
          "data": {
            "text/plain": [
              "True"
            ]
          },
          "metadata": {
            "tags": []
          },
          "execution_count": 94
        }
      ]
    },
    {
      "cell_type": "code",
      "metadata": {
        "collapsed": true,
        "colab": {
          "base_uri": "https://localhost:8080/"
        },
        "id": "liU38yLora97",
        "outputId": "e831c35a-bb56-4b01-f665-75397226e2bb"
      },
      "source": [
        "# Check\n",
        "spy_game([1,0,2,4,0,5,7])"
      ],
      "execution_count": 97,
      "outputs": [
        {
          "output_type": "execute_result",
          "data": {
            "text/plain": [
              "True"
            ]
          },
          "metadata": {
            "tags": []
          },
          "execution_count": 97
        }
      ]
    },
    {
      "cell_type": "code",
      "metadata": {
        "collapsed": true,
        "colab": {
          "base_uri": "https://localhost:8080/"
        },
        "id": "bLHoPB5wra97",
        "outputId": "f64876c4-7e5f-43a1-90ec-f2a905d00656"
      },
      "source": [
        "# Check\n",
        "spy_game([1,7,2,0,4,5,0])"
      ],
      "execution_count": 96,
      "outputs": [
        {
          "output_type": "execute_result",
          "data": {
            "text/plain": [
              "False"
            ]
          },
          "metadata": {
            "tags": []
          },
          "execution_count": 96
        }
      ]
    },
    {
      "cell_type": "markdown",
      "metadata": {
        "id": "hIPDkHDwra97"
      },
      "source": [
        "#### COUNT PRIMES: Write a function that returns the *number* of prime numbers that exist up to and including a given number\n",
        "    count_primes(100) --> 25\n",
        "\n",
        "By convention, 0 and 1 are not prime."
      ]
    },
    {
      "cell_type": "code",
      "metadata": {
        "collapsed": true,
        "id": "UPGQjWrlra97"
      },
      "source": [
        "def count_primes(num):\n",
        "    i = 0\n",
        "    \n",
        "    for item in range(num+1):\n",
        "        if item <=1:\n",
        "            continue\n",
        "        if item == 2:\n",
        "            i=1\n",
        "            continue\n",
        "        for n in range(2,item):\n",
        "            if item % n == 0:\n",
        "                break\n",
        "        else:\n",
        "            i +=1\n",
        "            \n",
        "    return i\n",
        "                "
      ],
      "execution_count": 98,
      "outputs": []
    },
    {
      "cell_type": "code",
      "metadata": {
        "collapsed": true,
        "colab": {
          "base_uri": "https://localhost:8080/"
        },
        "id": "nCK6Rv-pra97",
        "outputId": "a6b58a4c-2bec-4553-d716-2516b1bdd2fd"
      },
      "source": [
        "# Check\n",
        "count_primes(100)"
      ],
      "execution_count": 99,
      "outputs": [
        {
          "output_type": "execute_result",
          "data": {
            "text/plain": [
              "25"
            ]
          },
          "metadata": {
            "tags": []
          },
          "execution_count": 99
        }
      ]
    },
    {
      "cell_type": "markdown",
      "metadata": {
        "id": "3J8NPwa7ra97"
      },
      "source": [
        "### Just for fun:\n",
        "#### PRINT BIG: Write a function that takes in a single letter, and returns a 5x5 representation of that letter\n",
        "    print_big('a')\n",
        "    \n",
        "    out:   *  \n",
        "          * *\n",
        "         *****\n",
        "         *   *\n",
        "         *   *\n",
        "HINT: Consider making a dictionary of possible patterns, and mapping the alphabet to specific 5-line combinations of patterns. <br>For purposes of this exercise, it's ok if your dictionary stops at \"E\"."
      ]
    },
    {
      "cell_type": "code",
      "metadata": {
        "collapsed": true,
        "id": "_VQAxpotra98"
      },
      "source": [
        "def print_big(letter):\n",
        "    pass"
      ],
      "execution_count": null,
      "outputs": []
    },
    {
      "cell_type": "code",
      "metadata": {
        "collapsed": true,
        "id": "LgIWH_QPra98"
      },
      "source": [
        "print_big('a')"
      ],
      "execution_count": null,
      "outputs": []
    },
    {
      "cell_type": "markdown",
      "metadata": {
        "id": "cdLXkqvjra98"
      },
      "source": [
        "## Great Job!"
      ]
    }
  ]
}