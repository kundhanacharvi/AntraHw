{
  "nbformat": 4,
  "nbformat_minor": 0,
  "metadata": {
    "kernelspec": {
      "display_name": "Python 3",
      "language": "python",
      "name": "python3"
    },
    "language_info": {
      "codemirror_mode": {
        "name": "ipython",
        "version": 3
      },
      "file_extension": ".py",
      "mimetype": "text/x-python",
      "name": "python",
      "nbconvert_exporter": "python",
      "pygments_lexer": "ipython3",
      "version": "3.6.6"
    },
    "colab": {
      "name": "02-Errors and Exceptions Homework.ipynb",
      "provenance": [],
      "include_colab_link": true
    }
  },
  "cells": [
    {
      "cell_type": "markdown",
      "metadata": {
        "id": "view-in-github",
        "colab_type": "text"
      },
      "source": [
        "<a href=\"https://colab.research.google.com/github/kundhanacharvi/training/blob/main/02_Errors_and_Exceptions_Homework.ipynb\" target=\"_parent\"><img src=\"https://colab.research.google.com/assets/colab-badge.svg\" alt=\"Open In Colab\"/></a>"
      ]
    },
    {
      "cell_type": "markdown",
      "metadata": {
        "id": "4BJKI8pGDoZW"
      },
      "source": [
        "___\n",
        "\n",
        "<a href='https://www.udemy.com/user/joseportilla/'><img src='../Pierian_Data_Logo.png'/></a>\n",
        "___\n",
        "<center><em>Content Copyright by Pierian Data</em></center>"
      ]
    },
    {
      "cell_type": "markdown",
      "metadata": {
        "id": "jUwrGKooDoZY"
      },
      "source": [
        "# Errors and Exceptions Homework"
      ]
    },
    {
      "cell_type": "markdown",
      "metadata": {
        "id": "hA-4KokwDoZa"
      },
      "source": [
        "### Problem 1\n",
        "Handle the exception thrown by the code below by using <code>try</code> and <code>except</code> blocks."
      ]
    },
    {
      "cell_type": "code",
      "metadata": {
        "colab": {
          "base_uri": "https://localhost:8080/"
        },
        "id": "8xL37Hk0DoZa",
        "outputId": "4937be89-1178-4b91-bd91-2c5fcca19fbe"
      },
      "source": [
        "for i in ['a','b','c']:\n",
        "  try:\n",
        "    print(i**2)\n",
        "  except:\n",
        "    print('Not an integer')"
      ],
      "execution_count": null,
      "outputs": [
        {
          "output_type": "stream",
          "text": [
            "Not an integer\n",
            "Not an integer\n",
            "Not an integer\n"
          ],
          "name": "stdout"
        }
      ]
    },
    {
      "cell_type": "markdown",
      "metadata": {
        "id": "-dJov4K7DoZd"
      },
      "source": [
        "### Problem 2\n",
        "Handle the exception thrown by the code below by using <code>try</code> and <code>except</code> blocks. Then use a <code>finally</code> block to print 'All Done.'"
      ]
    },
    {
      "cell_type": "code",
      "metadata": {
        "colab": {
          "base_uri": "https://localhost:8080/"
        },
        "id": "9q8oGQyKDoZd",
        "outputId": "d5ef9f66-1d6c-4995-9b89-24ae2f994b2f"
      },
      "source": [
        "x = 5\n",
        "y = 0\n",
        "try:\n",
        "  z = x/y\n",
        "except:\n",
        "  print('x/y Division is not possible')\n",
        "finally:\n",
        "  print('All done!')"
      ],
      "execution_count": null,
      "outputs": [
        {
          "output_type": "stream",
          "text": [
            "x/y Division is not possible\n",
            "All done!\n"
          ],
          "name": "stdout"
        }
      ]
    },
    {
      "cell_type": "markdown",
      "metadata": {
        "id": "cpcL3MYyDoZe"
      },
      "source": [
        "### Problem 3\n",
        "Write a function that asks for an integer and prints the square of it. Use a <code>while</code> loop with a <code>try</code>, <code>except</code>, <code>else</code> block to account for incorrect inputs."
      ]
    },
    {
      "cell_type": "code",
      "metadata": {
        "collapsed": true,
        "id": "eV_fql66DoZe"
      },
      "source": [
        "def ask():\n",
        "    while True:\n",
        "      try:\n",
        "        val = int(input('Input a integer :'))\n",
        "      except:\n",
        "        print('An error occurred! Please try again!')\n",
        "        continue\n",
        "      else:\n",
        "        print('Thank you, your number squared is: ', val**2)\n",
        "        break"
      ],
      "execution_count": 1,
      "outputs": []
    },
    {
      "cell_type": "code",
      "metadata": {
        "colab": {
          "base_uri": "https://localhost:8080/"
        },
        "id": "sxtIYBuKDoZf",
        "outputId": "1b1865fe-12df-49ff-dec5-2bbf2fb670f4"
      },
      "source": [
        "ask()"
      ],
      "execution_count": 3,
      "outputs": [
        {
          "output_type": "stream",
          "text": [
            "Input a integer :a\n",
            "An error occurred! Please try again!\n",
            "Input a integer :3\n",
            "Thank you, your number squared is:  9\n"
          ],
          "name": "stdout"
        }
      ]
    },
    {
      "cell_type": "markdown",
      "metadata": {
        "id": "vYx5ChLcDoZg"
      },
      "source": [
        "# Great Job!"
      ]
    }
  ]
}